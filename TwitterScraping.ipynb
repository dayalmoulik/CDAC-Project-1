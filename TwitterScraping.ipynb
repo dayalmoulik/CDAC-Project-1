{
 "cells": [
  {
   "cell_type": "code",
   "execution_count": 1,
   "id": "966eada1",
   "metadata": {},
   "outputs": [
    {
     "name": "stdout",
     "output_type": "stream",
     "text": [
      "Requirement already satisfied: snscrape in c:\\programdata\\anaconda3\\lib\\site-packages (0.4.3.20220106)\n",
      "Requirement already satisfied: beautifulsoup4 in c:\\programdata\\anaconda3\\lib\\site-packages (from snscrape) (4.11.1)\n",
      "Requirement already satisfied: requests[socks] in c:\\programdata\\anaconda3\\lib\\site-packages (from snscrape) (2.28.1)\n",
      "Requirement already satisfied: lxml in c:\\programdata\\anaconda3\\lib\\site-packages (from snscrape) (4.9.1)\n",
      "Requirement already satisfied: filelock in c:\\programdata\\anaconda3\\lib\\site-packages (from snscrape) (3.6.0)\n",
      "Requirement already satisfied: soupsieve>1.2 in c:\\programdata\\anaconda3\\lib\\site-packages (from beautifulsoup4->snscrape) (2.3.1)\n",
      "Requirement already satisfied: idna<4,>=2.5 in c:\\programdata\\anaconda3\\lib\\site-packages (from requests[socks]->snscrape) (3.3)\n",
      "Requirement already satisfied: charset-normalizer<3,>=2 in c:\\programdata\\anaconda3\\lib\\site-packages (from requests[socks]->snscrape) (2.0.4)\n",
      "Requirement already satisfied: certifi>=2017.4.17 in c:\\programdata\\anaconda3\\lib\\site-packages (from requests[socks]->snscrape) (2022.6.15)\n",
      "Requirement already satisfied: urllib3<1.27,>=1.21.1 in c:\\programdata\\anaconda3\\lib\\site-packages (from requests[socks]->snscrape) (1.26.11)\n",
      "Requirement already satisfied: PySocks!=1.5.7,>=1.5.6 in c:\\programdata\\anaconda3\\lib\\site-packages (from requests[socks]->snscrape) (1.7.1)\n",
      "Note: you may need to restart the kernel to use updated packages.\n"
     ]
    },
    {
     "name": "stderr",
     "output_type": "stream",
     "text": [
      "WARNING: Ignoring invalid distribution -ensorflow-gpu (c:\\users\\siddh\\appdata\\roaming\\python\\python39\\site-packages)\n",
      "WARNING: Ignoring invalid distribution -cikit-learn (c:\\programdata\\anaconda3\\lib\\site-packages)\n",
      "WARNING: Ignoring invalid distribution -andas (c:\\programdata\\anaconda3\\lib\\site-packages)\n",
      "WARNING: Ignoring invalid distribution -ensorflow-gpu (c:\\users\\siddh\\appdata\\roaming\\python\\python39\\site-packages)\n",
      "WARNING: Ignoring invalid distribution -cikit-learn (c:\\programdata\\anaconda3\\lib\\site-packages)\n",
      "WARNING: Ignoring invalid distribution -andas (c:\\programdata\\anaconda3\\lib\\site-packages)\n",
      "WARNING: Ignoring invalid distribution -ensorflow-gpu (c:\\users\\siddh\\appdata\\roaming\\python\\python39\\site-packages)\n",
      "WARNING: Ignoring invalid distribution -cikit-learn (c:\\programdata\\anaconda3\\lib\\site-packages)\n",
      "WARNING: Ignoring invalid distribution -andas (c:\\programdata\\anaconda3\\lib\\site-packages)\n",
      "WARNING: Ignoring invalid distribution -ensorflow-gpu (c:\\users\\siddh\\appdata\\roaming\\python\\python39\\site-packages)\n",
      "WARNING: Ignoring invalid distribution -cikit-learn (c:\\programdata\\anaconda3\\lib\\site-packages)\n",
      "WARNING: Ignoring invalid distribution -andas (c:\\programdata\\anaconda3\\lib\\site-packages)\n",
      "WARNING: Ignoring invalid distribution -ensorflow-gpu (c:\\users\\siddh\\appdata\\roaming\\python\\python39\\site-packages)\n",
      "WARNING: Ignoring invalid distribution -cikit-learn (c:\\programdata\\anaconda3\\lib\\site-packages)\n",
      "WARNING: Ignoring invalid distribution -andas (c:\\programdata\\anaconda3\\lib\\site-packages)\n",
      "WARNING: Ignoring invalid distribution -ensorflow-gpu (c:\\users\\siddh\\appdata\\roaming\\python\\python39\\site-packages)\n",
      "WARNING: Ignoring invalid distribution -cikit-learn (c:\\programdata\\anaconda3\\lib\\site-packages)\n",
      "WARNING: Ignoring invalid distribution -andas (c:\\programdata\\anaconda3\\lib\\site-packages)\n"
     ]
    }
   ],
   "source": [
    "pip install snscrape"
   ]
  },
  {
   "cell_type": "code",
   "execution_count": 2,
   "id": "ba7500d6",
   "metadata": {},
   "outputs": [],
   "source": [
    "import snscrape\n",
    "import os\n",
    "import pandas as pd\n",
    "from datetime import date"
   ]
  },
  {
   "cell_type": "code",
   "execution_count": 3,
   "id": "e6b60eca",
   "metadata": {},
   "outputs": [
    {
     "name": "stdout",
     "output_type": "stream",
     "text": [
      "Todays date is 2022-09-10\n"
     ]
    }
   ],
   "source": [
    "def get_date():\n",
    "    today = date.today()\n",
    "    end_date = today\n",
    "    return end_date\n",
    "end_date = get_date()\n",
    "print(f\"Todays date is {end_date}\")"
   ]
  },
  {
   "cell_type": "markdown",
   "id": "3c8df669",
   "metadata": {},
   "source": [
    "# To make data clean and readable"
   ]
  },
  {
   "cell_type": "code",
   "execution_count": 4,
   "id": "5bb2f611",
   "metadata": {},
   "outputs": [],
   "source": [
    "def extract_usefull_columns(filename):\n",
    "    df = pd.read_json(filename,lines=True)\n",
    "    df = df[['renderedContent','id','user','lang','replyCount','date']]\n",
    "    df['username'] = df['user'].apply(lambda x: x.get('username'))\n",
    "    df['user_id'] = df['user'].apply(lambda x: x.get('id'))\n",
    "    df['followersCount'] = df['user'].apply(lambda x: x.get('followersCount'))\n",
    "    df = df[['user_id','username','id','date','renderedContent','lang','replyCount','followersCount','user']]\n",
    "    df.rename(columns = {'renderedContent':'Tweet'}, inplace = True)\n",
    "    df.drop('user',axis = 1,inplace=True )\n",
    "    return df"
   ]
  },
  {
   "cell_type": "markdown",
   "id": "05446d61",
   "metadata": {},
   "source": [
    "# Fetch Tweets with Username @narendramodi user_name = narendramodi "
   ]
  },
  {
   "cell_type": "code",
   "execution_count": 5,
   "id": "2a69abb8",
   "metadata": {},
   "outputs": [],
   "source": [
    "def fetch_tweet_username(tweetNumber,from_date,user_name,filename):\n",
    "    user_tweets = \"snscrape\"+ f\" --json --max-results {tweetNumber} --since {from_date} twitter-user {user_name} > {filename}\"\n",
    "    print(f\"file saving at current working directory {os.getcwd()} as {filename}\")\n",
    "    os.system(user_tweets)"
   ]
  },
  {
   "cell_type": "markdown",
   "id": "2fb69c29",
   "metadata": {},
   "source": [
    "# Only do changes in below area"
   ]
  },
  {
   "cell_type": "code",
   "execution_count": 6,
   "id": "a41ae706",
   "metadata": {},
   "outputs": [],
   "source": [
    "tweetNumber=100\n",
    "from_date='2022-09-08'\n",
    "user_name='narendramodi'\n",
    "filename='modi1.txt'"
   ]
  },
  {
   "cell_type": "code",
   "execution_count": 7,
   "id": "8d1ee459",
   "metadata": {},
   "outputs": [
    {
     "name": "stdout",
     "output_type": "stream",
     "text": [
      "file saving at current working directory C:\\Users\\siddh\\Downloads as modi1.txt\n"
     ]
    }
   ],
   "source": [
    "fetch_tweet_username(tweetNumber,from_date,user_name,filename)"
   ]
  },
  {
   "cell_type": "code",
   "execution_count": 8,
   "id": "baf0f716",
   "metadata": {},
   "outputs": [],
   "source": [
    "df = extract_usefull_columns(filename)"
   ]
  },
  {
   "cell_type": "code",
   "execution_count": 9,
   "id": "fcaa3585",
   "metadata": {},
   "outputs": [
    {
     "data": {
      "text/html": [
       "<div>\n",
       "<style scoped>\n",
       "    .dataframe tbody tr th:only-of-type {\n",
       "        vertical-align: middle;\n",
       "    }\n",
       "\n",
       "    .dataframe tbody tr th {\n",
       "        vertical-align: top;\n",
       "    }\n",
       "\n",
       "    .dataframe thead th {\n",
       "        text-align: right;\n",
       "    }\n",
       "</style>\n",
       "<table border=\"1\" class=\"dataframe\">\n",
       "  <thead>\n",
       "    <tr style=\"text-align: right;\">\n",
       "      <th></th>\n",
       "      <th>user_id</th>\n",
       "      <th>username</th>\n",
       "      <th>id</th>\n",
       "      <th>date</th>\n",
       "      <th>Tweet</th>\n",
       "      <th>lang</th>\n",
       "      <th>replyCount</th>\n",
       "      <th>followersCount</th>\n",
       "    </tr>\n",
       "  </thead>\n",
       "  <tbody>\n",
       "    <tr>\n",
       "      <th>0</th>\n",
       "      <td>18839785</td>\n",
       "      <td>narendramodi</td>\n",
       "      <td>1568516753931776002</td>\n",
       "      <td>2022-09-10 08:28:30+00:00</td>\n",
       "      <td>Shri BB Lal was an outstanding personality. Hi...</td>\n",
       "      <td>en</td>\n",
       "      <td>668</td>\n",
       "      <td>82343152</td>\n",
       "    </tr>\n",
       "    <tr>\n",
       "      <th>1</th>\n",
       "      <td>18839785</td>\n",
       "      <td>narendramodi</td>\n",
       "      <td>1568514545076895749</td>\n",
       "      <td>2022-09-10 08:19:43+00:00</td>\n",
       "      <td>Harnessing technology in key sectors like affo...</td>\n",
       "      <td>en</td>\n",
       "      <td>247</td>\n",
       "      <td>82343152</td>\n",
       "    </tr>\n",
       "    <tr>\n",
       "      <th>2</th>\n",
       "      <td>18839785</td>\n",
       "      <td>narendramodi</td>\n",
       "      <td>1568514446259113984</td>\n",
       "      <td>2022-09-10 08:19:20+00:00</td>\n",
       "      <td>India has a rich scientific history which we m...</td>\n",
       "      <td>en</td>\n",
       "      <td>312</td>\n",
       "      <td>82343152</td>\n",
       "    </tr>\n",
       "    <tr>\n",
       "      <th>3</th>\n",
       "      <td>18839785</td>\n",
       "      <td>narendramodi</td>\n",
       "      <td>1568473069483868161</td>\n",
       "      <td>2022-09-10 05:34:55+00:00</td>\n",
       "      <td>Addressing the Centre-State Science Conclave. ...</td>\n",
       "      <td>en</td>\n",
       "      <td>465</td>\n",
       "      <td>82343152</td>\n",
       "    </tr>\n",
       "    <tr>\n",
       "      <th>4</th>\n",
       "      <td>18839785</td>\n",
       "      <td>narendramodi</td>\n",
       "      <td>1568449678601244673</td>\n",
       "      <td>2022-09-10 04:01:58+00:00</td>\n",
       "      <td>At 10:30 AM today, will be addressing the Cent...</td>\n",
       "      <td>en</td>\n",
       "      <td>495</td>\n",
       "      <td>82343152</td>\n",
       "    </tr>\n",
       "  </tbody>\n",
       "</table>\n",
       "</div>"
      ],
      "text/plain": [
       "    user_id      username                   id                      date  \\\n",
       "0  18839785  narendramodi  1568516753931776002 2022-09-10 08:28:30+00:00   \n",
       "1  18839785  narendramodi  1568514545076895749 2022-09-10 08:19:43+00:00   \n",
       "2  18839785  narendramodi  1568514446259113984 2022-09-10 08:19:20+00:00   \n",
       "3  18839785  narendramodi  1568473069483868161 2022-09-10 05:34:55+00:00   \n",
       "4  18839785  narendramodi  1568449678601244673 2022-09-10 04:01:58+00:00   \n",
       "\n",
       "                                               Tweet lang  replyCount  \\\n",
       "0  Shri BB Lal was an outstanding personality. Hi...   en         668   \n",
       "1  Harnessing technology in key sectors like affo...   en         247   \n",
       "2  India has a rich scientific history which we m...   en         312   \n",
       "3  Addressing the Centre-State Science Conclave. ...   en         465   \n",
       "4  At 10:30 AM today, will be addressing the Cent...   en         495   \n",
       "\n",
       "   followersCount  \n",
       "0        82343152  \n",
       "1        82343152  \n",
       "2        82343152  \n",
       "3        82343152  \n",
       "4        82343152  "
      ]
     },
     "execution_count": 9,
     "metadata": {},
     "output_type": "execute_result"
    }
   ],
   "source": [
    "df.head()"
   ]
  },
  {
   "cell_type": "markdown",
   "id": "4a563abb",
   "metadata": {},
   "source": [
    "# Extract tweet with hashtag"
   ]
  },
  {
   "cell_type": "code",
   "execution_count": 10,
   "id": "d4cc17d2",
   "metadata": {},
   "outputs": [],
   "source": [
    "def fetch_tweet_hashtag(hashtag,tweetNumber_hashtag,from_date_hashtag,filename_hastag):\n",
    "    hashtag_tweets = \"snscrape\"+ f\" --json --max-results {tweetNumber_hashtag} --since {from_date_hashtag} twitter-hashtag {hashtag} > {filename_hastag}\"\n",
    "    print(f\"file saving at current working directory {os.getcwd()} as {filename_hastag}\")\n",
    "    os.system(hashtag_tweets)"
   ]
  },
  {
   "cell_type": "markdown",
   "id": "72708b95",
   "metadata": {},
   "source": [
    "# Only do changes in below area"
   ]
  },
  {
   "cell_type": "code",
   "execution_count": 11,
   "id": "c32b8d8a",
   "metadata": {},
   "outputs": [],
   "source": [
    "hashtag = \"BharatJodoYatra\"\n",
    "tweetNumber_hashtag=100\n",
    "from_date_hashtag='2022-09-08'\n",
    "filename_hastag='bharat.txt'"
   ]
  },
  {
   "cell_type": "code",
   "execution_count": 12,
   "id": "9cd86d2d",
   "metadata": {},
   "outputs": [
    {
     "name": "stdout",
     "output_type": "stream",
     "text": [
      "file saving at current working directory C:\\Users\\siddh\\Downloads as bharat.txt\n"
     ]
    }
   ],
   "source": [
    "fetch_tweet_hashtag(hashtag,tweetNumber_hashtag,from_date_hashtag,filename_hastag)"
   ]
  },
  {
   "cell_type": "code",
   "execution_count": 13,
   "id": "224418b0",
   "metadata": {},
   "outputs": [],
   "source": [
    "df2 = extract_usefull_columns(filename_hastag)"
   ]
  },
  {
   "cell_type": "code",
   "execution_count": 14,
   "id": "a77090b2",
   "metadata": {},
   "outputs": [
    {
     "data": {
      "text/html": [
       "<div>\n",
       "<style scoped>\n",
       "    .dataframe tbody tr th:only-of-type {\n",
       "        vertical-align: middle;\n",
       "    }\n",
       "\n",
       "    .dataframe tbody tr th {\n",
       "        vertical-align: top;\n",
       "    }\n",
       "\n",
       "    .dataframe thead th {\n",
       "        text-align: right;\n",
       "    }\n",
       "</style>\n",
       "<table border=\"1\" class=\"dataframe\">\n",
       "  <thead>\n",
       "    <tr style=\"text-align: right;\">\n",
       "      <th></th>\n",
       "      <th>user_id</th>\n",
       "      <th>username</th>\n",
       "      <th>id</th>\n",
       "      <th>date</th>\n",
       "      <th>Tweet</th>\n",
       "      <th>lang</th>\n",
       "      <th>replyCount</th>\n",
       "      <th>followersCount</th>\n",
       "    </tr>\n",
       "  </thead>\n",
       "  <tbody>\n",
       "    <tr>\n",
       "      <th>0</th>\n",
       "      <td>1252814940492070912</td>\n",
       "      <td>MdMusha96876243</td>\n",
       "      <td>1568625484329807873</td>\n",
       "      <td>2022-09-10 15:40:33+00:00</td>\n",
       "      <td>टी-शर्ट पर चर्चा करने वालों कहां हो @BJP4India...</td>\n",
       "      <td>hi</td>\n",
       "      <td>0</td>\n",
       "      <td>194</td>\n",
       "    </tr>\n",
       "    <tr>\n",
       "      <th>1</th>\n",
       "      <td>3186056474</td>\n",
       "      <td>kamaluddinINC</td>\n",
       "      <td>1568625483302207490</td>\n",
       "      <td>2022-09-10 15:40:33+00:00</td>\n",
       "      <td>कांग्रेस प्रवक्ता @Pawankhera जी का बीजेपी पर ...</td>\n",
       "      <td>hi</td>\n",
       "      <td>0</td>\n",
       "      <td>13130</td>\n",
       "    </tr>\n",
       "    <tr>\n",
       "      <th>2</th>\n",
       "      <td>1324777971048087558</td>\n",
       "      <td>KhuntiNSUI</td>\n",
       "      <td>1568625483000217600</td>\n",
       "      <td>2022-09-10 15:40:33+00:00</td>\n",
       "      <td>मेरे हौसलों में अभी जान बाकी हैं,\\n\\nये तो दौड...</td>\n",
       "      <td>hi</td>\n",
       "      <td>0</td>\n",
       "      <td>142</td>\n",
       "    </tr>\n",
       "    <tr>\n",
       "      <th>3</th>\n",
       "      <td>1477222983303237632</td>\n",
       "      <td>newssensetn</td>\n",
       "      <td>1568625464557842434</td>\n",
       "      <td>2022-09-10 15:40:29+00:00</td>\n",
       "      <td>🔴LIVE: Savukku Shankar Latest: Rahul Gandhi-ன்...</td>\n",
       "      <td>und</td>\n",
       "      <td>0</td>\n",
       "      <td>87</td>\n",
       "    </tr>\n",
       "    <tr>\n",
       "      <th>4</th>\n",
       "      <td>76134964</td>\n",
       "      <td>Pawankhera</td>\n",
       "      <td>1568625462678818821</td>\n",
       "      <td>2022-09-10 15:40:28+00:00</td>\n",
       "      <td>This is the voice of the youth of India. Is De...</td>\n",
       "      <td>en</td>\n",
       "      <td>0</td>\n",
       "      <td>490298</td>\n",
       "    </tr>\n",
       "  </tbody>\n",
       "</table>\n",
       "</div>"
      ],
      "text/plain": [
       "               user_id         username                   id  \\\n",
       "0  1252814940492070912  MdMusha96876243  1568625484329807873   \n",
       "1           3186056474    kamaluddinINC  1568625483302207490   \n",
       "2  1324777971048087558       KhuntiNSUI  1568625483000217600   \n",
       "3  1477222983303237632      newssensetn  1568625464557842434   \n",
       "4             76134964       Pawankhera  1568625462678818821   \n",
       "\n",
       "                       date  \\\n",
       "0 2022-09-10 15:40:33+00:00   \n",
       "1 2022-09-10 15:40:33+00:00   \n",
       "2 2022-09-10 15:40:33+00:00   \n",
       "3 2022-09-10 15:40:29+00:00   \n",
       "4 2022-09-10 15:40:28+00:00   \n",
       "\n",
       "                                               Tweet lang  replyCount  \\\n",
       "0  टी-शर्ट पर चर्चा करने वालों कहां हो @BJP4India...   hi           0   \n",
       "1  कांग्रेस प्रवक्ता @Pawankhera जी का बीजेपी पर ...   hi           0   \n",
       "2  मेरे हौसलों में अभी जान बाकी हैं,\\n\\nये तो दौड...   hi           0   \n",
       "3  🔴LIVE: Savukku Shankar Latest: Rahul Gandhi-ன்...  und           0   \n",
       "4  This is the voice of the youth of India. Is De...   en           0   \n",
       "\n",
       "   followersCount  \n",
       "0             194  \n",
       "1           13130  \n",
       "2             142  \n",
       "3              87  \n",
       "4          490298  "
      ]
     },
     "execution_count": 14,
     "metadata": {},
     "output_type": "execute_result"
    }
   ],
   "source": [
    "df2.head()"
   ]
  },
  {
   "cell_type": "markdown",
   "id": "5a68ed16",
   "metadata": {},
   "source": [
    "# To fetch Tweet with searchQuery"
   ]
  },
  {
   "cell_type": "code",
   "execution_count": 15,
   "id": "dfd0d634",
   "metadata": {},
   "outputs": [],
   "source": [
    "def fetch_tweet_search(searchq,tweetNumber_s,filename_search):\n",
    "    search_tweets = f\"snscrape --json --max-results {tweetNumber} twitter-search \\\" {searchq} \\\" > {filename_search}\"\n",
    "    print(f\"file saving at current working directory {os.getcwd()} as {filename_search}\")\n",
    "    os.system(search_tweets)"
   ]
  },
  {
   "cell_type": "markdown",
   "id": "87bbf8ca",
   "metadata": {},
   "source": [
    "# Only do changes in below area"
   ]
  },
  {
   "cell_type": "code",
   "execution_count": 16,
   "id": "a60ced8d",
   "metadata": {},
   "outputs": [],
   "source": [
    "tweetNumber_s = 100\n",
    "from_date_search = '2022-08-08'\n",
    "lang = \" lang:en\" #Dont remove the space\n",
    "search = \"narendra modi\"\n",
    "searchq = search + lang\n",
    "filename_search= \"narendra.txt\""
   ]
  },
  {
   "cell_type": "code",
   "execution_count": 17,
   "id": "9c3d89d0",
   "metadata": {},
   "outputs": [
    {
     "name": "stdout",
     "output_type": "stream",
     "text": [
      "file saving at current working directory C:\\Users\\siddh\\Downloads as narendra.txt\n"
     ]
    }
   ],
   "source": [
    "fetch_tweet_search(searchq,tweetNumber_s,filename_search)"
   ]
  },
  {
   "cell_type": "code",
   "execution_count": 18,
   "id": "25e3106e",
   "metadata": {},
   "outputs": [],
   "source": [
    "df3 = extract_usefull_columns(filename_search)"
   ]
  },
  {
   "cell_type": "code",
   "execution_count": 19,
   "id": "4d8aee6b",
   "metadata": {},
   "outputs": [
    {
     "data": {
      "text/html": [
       "<div>\n",
       "<style scoped>\n",
       "    .dataframe tbody tr th:only-of-type {\n",
       "        vertical-align: middle;\n",
       "    }\n",
       "\n",
       "    .dataframe tbody tr th {\n",
       "        vertical-align: top;\n",
       "    }\n",
       "\n",
       "    .dataframe thead th {\n",
       "        text-align: right;\n",
       "    }\n",
       "</style>\n",
       "<table border=\"1\" class=\"dataframe\">\n",
       "  <thead>\n",
       "    <tr style=\"text-align: right;\">\n",
       "      <th></th>\n",
       "      <th>user_id</th>\n",
       "      <th>username</th>\n",
       "      <th>id</th>\n",
       "      <th>date</th>\n",
       "      <th>Tweet</th>\n",
       "      <th>lang</th>\n",
       "      <th>replyCount</th>\n",
       "      <th>followersCount</th>\n",
       "    </tr>\n",
       "  </thead>\n",
       "  <tbody>\n",
       "    <tr>\n",
       "      <th>0</th>\n",
       "      <td>1276802518522052608</td>\n",
       "      <td>Jaikish27075079</td>\n",
       "      <td>1568625516504317953</td>\n",
       "      <td>2022-09-10 15:40:41+00:00</td>\n",
       "      <td>@MURUPALANIAPPAN @KishanB78388093 @wel1wisher ...</td>\n",
       "      <td>en</td>\n",
       "      <td>0</td>\n",
       "      <td>1</td>\n",
       "    </tr>\n",
       "    <tr>\n",
       "      <th>1</th>\n",
       "      <td>385921555</td>\n",
       "      <td>ritulistic</td>\n",
       "      <td>1568625514264535043</td>\n",
       "      <td>2022-09-10 15:40:40+00:00</td>\n",
       "      <td>@Qamarcheema @Arzookazmi30 @TahirGora @TarekFa...</td>\n",
       "      <td>en</td>\n",
       "      <td>0</td>\n",
       "      <td>171</td>\n",
       "    </tr>\n",
       "    <tr>\n",
       "      <th>2</th>\n",
       "      <td>1346428411904839681</td>\n",
       "      <td>SureshK03406519</td>\n",
       "      <td>1568625437110321156</td>\n",
       "      <td>2022-09-10 15:40:22+00:00</td>\n",
       "      <td>@mk98019 @ArbindP32190619 @SaileshKushwah5 @be...</td>\n",
       "      <td>en</td>\n",
       "      <td>0</td>\n",
       "      <td>3269</td>\n",
       "    </tr>\n",
       "    <tr>\n",
       "      <th>3</th>\n",
       "      <td>1897514666</td>\n",
       "      <td>dpradhanbjp</td>\n",
       "      <td>1568625363542245376</td>\n",
       "      <td>2022-09-10 15:40:04+00:00</td>\n",
       "      <td>PM @narendramodi’s inspirational life-journey ...</td>\n",
       "      <td>en</td>\n",
       "      <td>0</td>\n",
       "      <td>1827374</td>\n",
       "    </tr>\n",
       "    <tr>\n",
       "      <th>4</th>\n",
       "      <td>2567704558</td>\n",
       "      <td>RebelloAnil</td>\n",
       "      <td>1568625322035396608</td>\n",
       "      <td>2022-09-10 15:39:55+00:00</td>\n",
       "      <td>@SevadalKA @anjilikkan @narendramodi #CheatedH...</td>\n",
       "      <td>en</td>\n",
       "      <td>0</td>\n",
       "      <td>193</td>\n",
       "    </tr>\n",
       "  </tbody>\n",
       "</table>\n",
       "</div>"
      ],
      "text/plain": [
       "               user_id         username                   id  \\\n",
       "0  1276802518522052608  Jaikish27075079  1568625516504317953   \n",
       "1            385921555       ritulistic  1568625514264535043   \n",
       "2  1346428411904839681  SureshK03406519  1568625437110321156   \n",
       "3           1897514666      dpradhanbjp  1568625363542245376   \n",
       "4           2567704558      RebelloAnil  1568625322035396608   \n",
       "\n",
       "                       date  \\\n",
       "0 2022-09-10 15:40:41+00:00   \n",
       "1 2022-09-10 15:40:40+00:00   \n",
       "2 2022-09-10 15:40:22+00:00   \n",
       "3 2022-09-10 15:40:04+00:00   \n",
       "4 2022-09-10 15:39:55+00:00   \n",
       "\n",
       "                                               Tweet lang  replyCount  \\\n",
       "0  @MURUPALANIAPPAN @KishanB78388093 @wel1wisher ...   en           0   \n",
       "1  @Qamarcheema @Arzookazmi30 @TahirGora @TarekFa...   en           0   \n",
       "2  @mk98019 @ArbindP32190619 @SaileshKushwah5 @be...   en           0   \n",
       "3  PM @narendramodi’s inspirational life-journey ...   en           0   \n",
       "4  @SevadalKA @anjilikkan @narendramodi #CheatedH...   en           0   \n",
       "\n",
       "   followersCount  \n",
       "0               1  \n",
       "1             171  \n",
       "2            3269  \n",
       "3         1827374  \n",
       "4             193  "
      ]
     },
     "execution_count": 19,
     "metadata": {},
     "output_type": "execute_result"
    }
   ],
   "source": [
    "df3.head()"
   ]
  },
  {
   "cell_type": "code",
   "execution_count": null,
   "id": "b517395b",
   "metadata": {},
   "outputs": [],
   "source": []
  }
 ],
 "metadata": {
  "kernelspec": {
   "display_name": "Python 3 (ipykernel)",
   "language": "python",
   "name": "python3"
  },
  "language_info": {
   "codemirror_mode": {
    "name": "ipython",
    "version": 3
   },
   "file_extension": ".py",
   "mimetype": "text/x-python",
   "name": "python",
   "nbconvert_exporter": "python",
   "pygments_lexer": "ipython3",
   "version": "3.9.7"
  }
 },
 "nbformat": 4,
 "nbformat_minor": 5
}
