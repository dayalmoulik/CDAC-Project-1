{
 "cells": [
  {
   "cell_type": "code",
   "execution_count": 1,
   "id": "966eada1",
   "metadata": {},
   "outputs": [
    {
     "name": "stdout",
     "output_type": "stream",
     "text": [
      "Requirement already satisfied: snscrape in c:\\programdata\\anaconda3\\lib\\site-packages (0.4.3.20220106)\n",
      "Requirement already satisfied: beautifulsoup4 in c:\\programdata\\anaconda3\\lib\\site-packages (from snscrape) (4.11.1)\n",
      "Requirement already satisfied: requests[socks] in c:\\programdata\\anaconda3\\lib\\site-packages (from snscrape) (2.28.1)\n",
      "Requirement already satisfied: lxml in c:\\programdata\\anaconda3\\lib\\site-packages (from snscrape) (4.9.1)\n",
      "Requirement already satisfied: filelock in c:\\programdata\\anaconda3\\lib\\site-packages (from snscrape) (3.6.0)\n",
      "Requirement already satisfied: soupsieve>1.2 in c:\\programdata\\anaconda3\\lib\\site-packages (from beautifulsoup4->snscrape) (2.3.1)\n",
      "Requirement already satisfied: idna<4,>=2.5 in c:\\programdata\\anaconda3\\lib\\site-packages (from requests[socks]->snscrape) (3.3)\n",
      "Requirement already satisfied: charset-normalizer<3,>=2 in c:\\programdata\\anaconda3\\lib\\site-packages (from requests[socks]->snscrape) (2.0.4)\n",
      "Requirement already satisfied: certifi>=2017.4.17 in c:\\programdata\\anaconda3\\lib\\site-packages (from requests[socks]->snscrape) (2022.6.15)\n",
      "Requirement already satisfied: urllib3<1.27,>=1.21.1 in c:\\programdata\\anaconda3\\lib\\site-packages (from requests[socks]->snscrape) (1.26.11)\n",
      "Requirement already satisfied: PySocks!=1.5.7,>=1.5.6 in c:\\programdata\\anaconda3\\lib\\site-packages (from requests[socks]->snscrape) (1.7.1)\n",
      "Note: you may need to restart the kernel to use updated packages.\n"
     ]
    },
    {
     "name": "stderr",
     "output_type": "stream",
     "text": [
      "WARNING: Ignoring invalid distribution -ensorflow-gpu (c:\\users\\siddh\\appdata\\roaming\\python\\python39\\site-packages)\n",
      "WARNING: Ignoring invalid distribution -cikit-learn (c:\\programdata\\anaconda3\\lib\\site-packages)\n",
      "WARNING: Ignoring invalid distribution -andas (c:\\programdata\\anaconda3\\lib\\site-packages)\n",
      "WARNING: Ignoring invalid distribution -ensorflow-gpu (c:\\users\\siddh\\appdata\\roaming\\python\\python39\\site-packages)\n",
      "WARNING: Ignoring invalid distribution -cikit-learn (c:\\programdata\\anaconda3\\lib\\site-packages)\n",
      "WARNING: Ignoring invalid distribution -andas (c:\\programdata\\anaconda3\\lib\\site-packages)\n",
      "WARNING: Ignoring invalid distribution -ensorflow-gpu (c:\\users\\siddh\\appdata\\roaming\\python\\python39\\site-packages)\n",
      "WARNING: Ignoring invalid distribution -cikit-learn (c:\\programdata\\anaconda3\\lib\\site-packages)\n",
      "WARNING: Ignoring invalid distribution -andas (c:\\programdata\\anaconda3\\lib\\site-packages)\n",
      "WARNING: Ignoring invalid distribution -ensorflow-gpu (c:\\users\\siddh\\appdata\\roaming\\python\\python39\\site-packages)\n",
      "WARNING: Ignoring invalid distribution -cikit-learn (c:\\programdata\\anaconda3\\lib\\site-packages)\n",
      "WARNING: Ignoring invalid distribution -andas (c:\\programdata\\anaconda3\\lib\\site-packages)\n",
      "WARNING: Ignoring invalid distribution -ensorflow-gpu (c:\\users\\siddh\\appdata\\roaming\\python\\python39\\site-packages)\n",
      "WARNING: Ignoring invalid distribution -cikit-learn (c:\\programdata\\anaconda3\\lib\\site-packages)\n",
      "WARNING: Ignoring invalid distribution -andas (c:\\programdata\\anaconda3\\lib\\site-packages)\n",
      "WARNING: Ignoring invalid distribution -ensorflow-gpu (c:\\users\\siddh\\appdata\\roaming\\python\\python39\\site-packages)\n",
      "WARNING: Ignoring invalid distribution -cikit-learn (c:\\programdata\\anaconda3\\lib\\site-packages)\n",
      "WARNING: Ignoring invalid distribution -andas (c:\\programdata\\anaconda3\\lib\\site-packages)\n"
     ]
    }
   ],
   "source": [
    "pip install snscrape"
   ]
  },
  {
   "cell_type": "code",
   "execution_count": 26,
   "id": "ba7500d6",
   "metadata": {},
   "outputs": [],
   "source": [
    "import snscrape\n",
    "import os\n",
    "import pandas as pd\n",
    "import numpy as np\n",
    "from datetime import date"
   ]
  },
  {
   "cell_type": "code",
   "execution_count": 2,
   "id": "e6b60eca",
   "metadata": {},
   "outputs": [
    {
     "name": "stdout",
     "output_type": "stream",
     "text": [
      "Todays date is 2022-09-13\n"
     ]
    }
   ],
   "source": [
    "def get_date():\n",
    "    today = date.today()\n",
    "    end_date = today\n",
    "    return end_date\n",
    "end_date = get_date()\n",
    "print(f\"Todays date is {end_date}\")"
   ]
  },
  {
   "cell_type": "markdown",
   "id": "3c8df669",
   "metadata": {},
   "source": [
    "# To make data clean and readable"
   ]
  },
  {
   "cell_type": "code",
   "execution_count": 3,
   "id": "5bb2f611",
   "metadata": {},
   "outputs": [],
   "source": [
    "def extract_usefull_columns(filename):\n",
    "    df = pd.read_json(filename,lines=True)\n",
    "    df = df[['renderedContent','id','user','lang','replyCount','date']]\n",
    "    df['username'] = df['user'].apply(lambda x: x.get('username'))\n",
    "    df['user_id'] = df['user'].apply(lambda x: x.get('id'))\n",
    "    df['followersCount'] = df['user'].apply(lambda x: x.get('followersCount'))\n",
    "    df = df[['user_id','username','id','date','renderedContent','lang','replyCount','followersCount','user']]\n",
    "    df.rename(columns = {'renderedContent':'Tweet'}, inplace = True)\n",
    "    df.drop('user',axis = 1,inplace=True )\n",
    "    return df"
   ]
  },
  {
   "cell_type": "code",
   "execution_count": 24,
   "id": "a2659204",
   "metadata": {},
   "outputs": [],
   "source": [
    "#Use this function to find out additional information to replies\n",
    "def extract_useful_columns_with_reply(filename):\n",
    "    df = pd.read_json(filename,lines=True)\n",
    "    df['username'] = df['user'].apply(lambda x: x.get('username'))\n",
    "    df['user_id'] = df['user'].apply(lambda x: x.get('id'))\n",
    "    df['followersCount'] = df['user'].apply(lambda x: x.get('followersCount'))\n",
    "    df['inReplyToUserId'] = df['inReplyToUser'].apply(lambda x:x.get('id') if x is not None else None)\n",
    "    df['inReplyToUserName'] = df['inReplyToUser'].apply(lambda x:x.get('username')if x is not None else None)\n",
    "    df = df[['id','date','user_id','username','renderedContent','lang','replyCount','followersCount',\n",
    "             'conversationId','inReplyToTweetId','inReplyToUserId','inReplyToUserName']]\n",
    "    df.rename(columns = {'renderedContent':'Tweet','id':'Tweetid'}, inplace = True)\n",
    "    df['inReplyToUserId'].fillna(0,inplace=True)\n",
    "    df['inReplyToTweetId'].fillna(0,inplace=True)\n",
    "    df = df.astype({'inReplyToUserId': np.int64,'inReplyToTweetId': np.int64 })\n",
    "    return df"
   ]
  },
  {
   "cell_type": "markdown",
   "id": "05446d61",
   "metadata": {},
   "source": [
    "# Fetch Tweets with Username @narendramodi user_name = narendramodi "
   ]
  },
  {
   "cell_type": "code",
   "execution_count": 7,
   "id": "2a69abb8",
   "metadata": {},
   "outputs": [],
   "source": [
    "def fetch_tweet_username(tweetNumber,from_date,user_name,filename):\n",
    "    user_tweets = \"snscrape\"+ f\" --json --max-results {tweetNumber} --since {from_date} twitter-user {user_name} > {filename}\"\n",
    "    print(f\"file saving at current working directory {os.getcwd()} as {filename}\")\n",
    "    os.system(user_tweets)"
   ]
  },
  {
   "cell_type": "markdown",
   "id": "2fb69c29",
   "metadata": {},
   "source": [
    "# Only do changes in below area"
   ]
  },
  {
   "cell_type": "code",
   "execution_count": 8,
   "id": "a41ae706",
   "metadata": {},
   "outputs": [],
   "source": [
    "tweetNumber=100\n",
    "from_date='2022-09-08'\n",
    "user_name='narendramodi'\n",
    "filename='modi1.txt'"
   ]
  },
  {
   "cell_type": "code",
   "execution_count": 9,
   "id": "8d1ee459",
   "metadata": {},
   "outputs": [
    {
     "name": "stdout",
     "output_type": "stream",
     "text": [
      "file saving at current working directory C:\\Users\\dayal\\Cdac\\CDAC-Project as modi1.txt\n"
     ]
    }
   ],
   "source": [
    "fetch_tweet_username(tweetNumber,from_date,user_name,filename)"
   ]
  },
  {
   "cell_type": "code",
   "execution_count": 10,
   "id": "baf0f716",
   "metadata": {},
   "outputs": [],
   "source": [
    "df = extract_usefull_columns(filename)"
   ]
  },
  {
   "cell_type": "code",
   "execution_count": 11,
   "id": "fcaa3585",
   "metadata": {},
   "outputs": [
    {
     "data": {
      "text/html": [
       "<div>\n",
       "<style scoped>\n",
       "    .dataframe tbody tr th:only-of-type {\n",
       "        vertical-align: middle;\n",
       "    }\n",
       "\n",
       "    .dataframe tbody tr th {\n",
       "        vertical-align: top;\n",
       "    }\n",
       "\n",
       "    .dataframe thead th {\n",
       "        text-align: right;\n",
       "    }\n",
       "</style>\n",
       "<table border=\"1\" class=\"dataframe\">\n",
       "  <thead>\n",
       "    <tr style=\"text-align: right;\">\n",
       "      <th></th>\n",
       "      <th>user_id</th>\n",
       "      <th>username</th>\n",
       "      <th>id</th>\n",
       "      <th>date</th>\n",
       "      <th>Tweet</th>\n",
       "      <th>lang</th>\n",
       "      <th>replyCount</th>\n",
       "      <th>followersCount</th>\n",
       "    </tr>\n",
       "  </thead>\n",
       "  <tbody>\n",
       "    <tr>\n",
       "      <th>0</th>\n",
       "      <td>18839785</td>\n",
       "      <td>narendramodi</td>\n",
       "      <td>1569313274285654018</td>\n",
       "      <td>2022-09-12 13:13:35+00:00</td>\n",
       "      <td>#MannKiBaat is enriched by diverse inputs and ...</td>\n",
       "      <td>en</td>\n",
       "      <td>404</td>\n",
       "      <td>82401287</td>\n",
       "    </tr>\n",
       "    <tr>\n",
       "      <th>1</th>\n",
       "      <td>18839785</td>\n",
       "      <td>narendramodi</td>\n",
       "      <td>1569313131830349824</td>\n",
       "      <td>2022-09-12 13:13:01+00:00</td>\n",
       "      <td>Commendable...I appreciate all those involved ...</td>\n",
       "      <td>en</td>\n",
       "      <td>246</td>\n",
       "      <td>82401287</td>\n",
       "    </tr>\n",
       "    <tr>\n",
       "      <th>2</th>\n",
       "      <td>18839785</td>\n",
       "      <td>narendramodi</td>\n",
       "      <td>1569248727554215936</td>\n",
       "      <td>2022-09-12 08:57:06+00:00</td>\n",
       "      <td>The Government of India is working with the st...</td>\n",
       "      <td>en</td>\n",
       "      <td>417</td>\n",
       "      <td>82401287</td>\n",
       "    </tr>\n",
       "    <tr>\n",
       "      <th>3</th>\n",
       "      <td>18839785</td>\n",
       "      <td>narendramodi</td>\n",
       "      <td>1569247967374196736</td>\n",
       "      <td>2022-09-12 08:54:05+00:00</td>\n",
       "      <td>विभिन्न राज्य सरकारों के साथ मिलकर केंद्र सरका...</td>\n",
       "      <td>hi</td>\n",
       "      <td>374</td>\n",
       "      <td>82401287</td>\n",
       "    </tr>\n",
       "    <tr>\n",
       "      <th>4</th>\n",
       "      <td>18839785</td>\n",
       "      <td>narendramodi</td>\n",
       "      <td>1569247895190228992</td>\n",
       "      <td>2022-09-12 08:53:48+00:00</td>\n",
       "      <td>हमारी सरकार ने देश के डेयरी सेक्टर के सामर्थ्य...</td>\n",
       "      <td>hi</td>\n",
       "      <td>183</td>\n",
       "      <td>82401287</td>\n",
       "    </tr>\n",
       "  </tbody>\n",
       "</table>\n",
       "</div>"
      ],
      "text/plain": [
       "    user_id      username                   id                      date  \\\n",
       "0  18839785  narendramodi  1569313274285654018 2022-09-12 13:13:35+00:00   \n",
       "1  18839785  narendramodi  1569313131830349824 2022-09-12 13:13:01+00:00   \n",
       "2  18839785  narendramodi  1569248727554215936 2022-09-12 08:57:06+00:00   \n",
       "3  18839785  narendramodi  1569247967374196736 2022-09-12 08:54:05+00:00   \n",
       "4  18839785  narendramodi  1569247895190228992 2022-09-12 08:53:48+00:00   \n",
       "\n",
       "                                               Tweet lang  replyCount  \\\n",
       "0  #MannKiBaat is enriched by diverse inputs and ...   en         404   \n",
       "1  Commendable...I appreciate all those involved ...   en         246   \n",
       "2  The Government of India is working with the st...   en         417   \n",
       "3  विभिन्न राज्य सरकारों के साथ मिलकर केंद्र सरका...   hi         374   \n",
       "4  हमारी सरकार ने देश के डेयरी सेक्टर के सामर्थ्य...   hi         183   \n",
       "\n",
       "   followersCount  \n",
       "0        82401287  \n",
       "1        82401287  \n",
       "2        82401287  \n",
       "3        82401287  \n",
       "4        82401287  "
      ]
     },
     "execution_count": 11,
     "metadata": {},
     "output_type": "execute_result"
    }
   ],
   "source": [
    "df.head()"
   ]
  },
  {
   "cell_type": "markdown",
   "id": "4a563abb",
   "metadata": {},
   "source": [
    "# Extract tweet with hashtag"
   ]
  },
  {
   "cell_type": "code",
   "execution_count": 12,
   "id": "d4cc17d2",
   "metadata": {},
   "outputs": [],
   "source": [
    "def fetch_tweet_hashtag(hashtag,tweetNumber_hashtag,from_date_hashtag,filename_hastag):\n",
    "    hashtag_tweets = \"snscrape\"+ f\" --json --max-results {tweetNumber_hashtag} --since {from_date_hashtag} twitter-hashtag {hashtag} > {filename_hastag}\"\n",
    "    print(f\"file saving at current working directory {os.getcwd()} as {filename_hastag}\")\n",
    "    os.system(hashtag_tweets)"
   ]
  },
  {
   "cell_type": "markdown",
   "id": "72708b95",
   "metadata": {},
   "source": [
    "# Only do changes in below area"
   ]
  },
  {
   "cell_type": "code",
   "execution_count": 13,
   "id": "c32b8d8a",
   "metadata": {},
   "outputs": [],
   "source": [
    "hashtag = \"BharatJodoYatra\"\n",
    "tweetNumber_hashtag=100\n",
    "from_date_hashtag='2022-09-08'\n",
    "filename_hastag='bharat.txt'"
   ]
  },
  {
   "cell_type": "code",
   "execution_count": 14,
   "id": "9cd86d2d",
   "metadata": {},
   "outputs": [
    {
     "name": "stdout",
     "output_type": "stream",
     "text": [
      "file saving at current working directory C:\\Users\\dayal\\Cdac\\CDAC-Project as bharat.txt\n"
     ]
    }
   ],
   "source": [
    "fetch_tweet_hashtag(hashtag,tweetNumber_hashtag,from_date_hashtag,filename_hastag)"
   ]
  },
  {
   "cell_type": "code",
   "execution_count": 15,
   "id": "224418b0",
   "metadata": {},
   "outputs": [],
   "source": [
    "df2 = extract_usefull_columns(filename_hastag)"
   ]
  },
  {
   "cell_type": "code",
   "execution_count": 16,
   "id": "a77090b2",
   "metadata": {},
   "outputs": [
    {
     "data": {
      "text/html": [
       "<div>\n",
       "<style scoped>\n",
       "    .dataframe tbody tr th:only-of-type {\n",
       "        vertical-align: middle;\n",
       "    }\n",
       "\n",
       "    .dataframe tbody tr th {\n",
       "        vertical-align: top;\n",
       "    }\n",
       "\n",
       "    .dataframe thead th {\n",
       "        text-align: right;\n",
       "    }\n",
       "</style>\n",
       "<table border=\"1\" class=\"dataframe\">\n",
       "  <thead>\n",
       "    <tr style=\"text-align: right;\">\n",
       "      <th></th>\n",
       "      <th>user_id</th>\n",
       "      <th>username</th>\n",
       "      <th>id</th>\n",
       "      <th>date</th>\n",
       "      <th>Tweet</th>\n",
       "      <th>lang</th>\n",
       "      <th>replyCount</th>\n",
       "      <th>followersCount</th>\n",
       "    </tr>\n",
       "  </thead>\n",
       "  <tbody>\n",
       "    <tr>\n",
       "      <th>0</th>\n",
       "      <td>355538462</td>\n",
       "      <td>raghavendrSriva</td>\n",
       "      <td>1569402586494795776</td>\n",
       "      <td>2022-09-12 19:08:29+00:00</td>\n",
       "      <td>#भारत_जोडों_यात्रा_का_6_वां_दिन \\n\\n        #भ...</td>\n",
       "      <td>hi</td>\n",
       "      <td>0</td>\n",
       "      <td>406</td>\n",
       "    </tr>\n",
       "    <tr>\n",
       "      <th>1</th>\n",
       "      <td>401815463</td>\n",
       "      <td>kottoorbaby</td>\n",
       "      <td>1569402528013459457</td>\n",
       "      <td>2022-09-12 19:08:15+00:00</td>\n",
       "      <td>#BharatJodoYatra https://t.co/F3uRXVT0Ec</td>\n",
       "      <td>qme</td>\n",
       "      <td>0</td>\n",
       "      <td>338</td>\n",
       "    </tr>\n",
       "    <tr>\n",
       "      <th>2</th>\n",
       "      <td>1424064596130865152</td>\n",
       "      <td>AnandRa73525055</td>\n",
       "      <td>1569402520757489664</td>\n",
       "      <td>2022-09-12 19:08:13+00:00</td>\n",
       "      <td>Heal the world, make it a better place \\n\\n#Bh...</td>\n",
       "      <td>en</td>\n",
       "      <td>0</td>\n",
       "      <td>240</td>\n",
       "    </tr>\n",
       "    <tr>\n",
       "      <th>3</th>\n",
       "      <td>3271569871</td>\n",
       "      <td>bengapinto</td>\n",
       "      <td>1569402483436560385</td>\n",
       "      <td>2022-09-12 19:08:04+00:00</td>\n",
       "      <td>@HarishG82141308 @StayingReal0511 Chal BURNOL ...</td>\n",
       "      <td>en</td>\n",
       "      <td>0</td>\n",
       "      <td>565</td>\n",
       "    </tr>\n",
       "    <tr>\n",
       "      <th>4</th>\n",
       "      <td>182337909</td>\n",
       "      <td>INC_LkoNaqvi</td>\n",
       "      <td>1569402404319432704</td>\n",
       "      <td>2022-09-12 19:07:45+00:00</td>\n",
       "      <td>लगे की आग तो धुआं निकालना तो लाज़िम है !\\nये अ...</td>\n",
       "      <td>hi</td>\n",
       "      <td>0</td>\n",
       "      <td>437</td>\n",
       "    </tr>\n",
       "  </tbody>\n",
       "</table>\n",
       "</div>"
      ],
      "text/plain": [
       "               user_id         username                   id  \\\n",
       "0            355538462  raghavendrSriva  1569402586494795776   \n",
       "1            401815463      kottoorbaby  1569402528013459457   \n",
       "2  1424064596130865152  AnandRa73525055  1569402520757489664   \n",
       "3           3271569871       bengapinto  1569402483436560385   \n",
       "4            182337909     INC_LkoNaqvi  1569402404319432704   \n",
       "\n",
       "                       date  \\\n",
       "0 2022-09-12 19:08:29+00:00   \n",
       "1 2022-09-12 19:08:15+00:00   \n",
       "2 2022-09-12 19:08:13+00:00   \n",
       "3 2022-09-12 19:08:04+00:00   \n",
       "4 2022-09-12 19:07:45+00:00   \n",
       "\n",
       "                                               Tweet lang  replyCount  \\\n",
       "0  #भारत_जोडों_यात्रा_का_6_वां_दिन \\n\\n        #भ...   hi           0   \n",
       "1           #BharatJodoYatra https://t.co/F3uRXVT0Ec  qme           0   \n",
       "2  Heal the world, make it a better place \\n\\n#Bh...   en           0   \n",
       "3  @HarishG82141308 @StayingReal0511 Chal BURNOL ...   en           0   \n",
       "4  लगे की आग तो धुआं निकालना तो लाज़िम है !\\nये अ...   hi           0   \n",
       "\n",
       "   followersCount  \n",
       "0             406  \n",
       "1             338  \n",
       "2             240  \n",
       "3             565  \n",
       "4             437  "
      ]
     },
     "execution_count": 16,
     "metadata": {},
     "output_type": "execute_result"
    }
   ],
   "source": [
    "df2.head()"
   ]
  },
  {
   "cell_type": "markdown",
   "id": "5a68ed16",
   "metadata": {},
   "source": [
    "# To fetch Tweet with searchQuery"
   ]
  },
  {
   "cell_type": "code",
   "execution_count": 17,
   "id": "dfd0d634",
   "metadata": {},
   "outputs": [],
   "source": [
    "def fetch_tweet_search(searchq,tweetNumber_s,filename_search):\n",
    "    search_tweets = f\"snscrape --json --max-results {tweetNumber} twitter-search \\\" {searchq} \\\" > {filename_search}\"\n",
    "    print(f\"file saving at current working directory {os.getcwd()} as {filename_search}\")\n",
    "    os.system(search_tweets)"
   ]
  },
  {
   "cell_type": "markdown",
   "id": "87bbf8ca",
   "metadata": {},
   "source": [
    "# Only do changes in below area"
   ]
  },
  {
   "cell_type": "code",
   "execution_count": 18,
   "id": "a60ced8d",
   "metadata": {},
   "outputs": [],
   "source": [
    "tweetNumber_s = 100\n",
    "from_date_search = '2022-08-08'\n",
    "lang = \" lang:en\" #Dont remove the space\n",
    "search = \"narendra modi\"\n",
    "searchq = search + lang\n",
    "filename_search= \"narendra.txt\""
   ]
  },
  {
   "cell_type": "code",
   "execution_count": 19,
   "id": "9c3d89d0",
   "metadata": {},
   "outputs": [
    {
     "name": "stdout",
     "output_type": "stream",
     "text": [
      "file saving at current working directory C:\\Users\\dayal\\Cdac\\CDAC-Project as narendra.txt\n"
     ]
    }
   ],
   "source": [
    "fetch_tweet_search(searchq,tweetNumber_s,filename_search)"
   ]
  },
  {
   "cell_type": "code",
   "execution_count": 20,
   "id": "25e3106e",
   "metadata": {},
   "outputs": [],
   "source": [
    "df3 = extract_usefull_columns(filename_search)"
   ]
  },
  {
   "cell_type": "code",
   "execution_count": 21,
   "id": "4d8aee6b",
   "metadata": {},
   "outputs": [
    {
     "data": {
      "text/html": [
       "<div>\n",
       "<style scoped>\n",
       "    .dataframe tbody tr th:only-of-type {\n",
       "        vertical-align: middle;\n",
       "    }\n",
       "\n",
       "    .dataframe tbody tr th {\n",
       "        vertical-align: top;\n",
       "    }\n",
       "\n",
       "    .dataframe thead th {\n",
       "        text-align: right;\n",
       "    }\n",
       "</style>\n",
       "<table border=\"1\" class=\"dataframe\">\n",
       "  <thead>\n",
       "    <tr style=\"text-align: right;\">\n",
       "      <th></th>\n",
       "      <th>user_id</th>\n",
       "      <th>username</th>\n",
       "      <th>id</th>\n",
       "      <th>date</th>\n",
       "      <th>Tweet</th>\n",
       "      <th>lang</th>\n",
       "      <th>replyCount</th>\n",
       "      <th>followersCount</th>\n",
       "    </tr>\n",
       "  </thead>\n",
       "  <tbody>\n",
       "    <tr>\n",
       "      <th>0</th>\n",
       "      <td>1426195560327905285</td>\n",
       "      <td>DRALIMOHAMMADM3</td>\n",
       "      <td>1569402701011898368</td>\n",
       "      <td>2022-09-12 19:08:56+00:00</td>\n",
       "      <td>@iambilalparray @narendramodi Good work</td>\n",
       "      <td>en</td>\n",
       "      <td>0</td>\n",
       "      <td>30</td>\n",
       "    </tr>\n",
       "    <tr>\n",
       "      <th>1</th>\n",
       "      <td>1563603695069044741</td>\n",
       "      <td>iam_ayush_11</td>\n",
       "      <td>1569402445641695232</td>\n",
       "      <td>2022-09-12 19:07:55+00:00</td>\n",
       "      <td>@BSNLCorporate  WHEN WILL BSNL4G LAUNCH IN KAN...</td>\n",
       "      <td>en</td>\n",
       "      <td>0</td>\n",
       "      <td>0</td>\n",
       "    </tr>\n",
       "    <tr>\n",
       "      <th>2</th>\n",
       "      <td>1230240183204773888</td>\n",
       "      <td>Aaryawarat</td>\n",
       "      <td>1569402243258138624</td>\n",
       "      <td>2022-09-12 19:07:07+00:00</td>\n",
       "      <td>@SureshNakhua @narendramodi @BJP4India Histori...</td>\n",
       "      <td>en</td>\n",
       "      <td>0</td>\n",
       "      <td>31481</td>\n",
       "    </tr>\n",
       "    <tr>\n",
       "      <th>3</th>\n",
       "      <td>1556617933476057088</td>\n",
       "      <td>MahomedRafiq2</td>\n",
       "      <td>1569402132230545410</td>\n",
       "      <td>2022-09-12 19:06:41+00:00</td>\n",
       "      <td>@Cyraakhan A Leader Does Not Need Portals Or C...</td>\n",
       "      <td>en</td>\n",
       "      <td>0</td>\n",
       "      <td>542</td>\n",
       "    </tr>\n",
       "    <tr>\n",
       "      <th>4</th>\n",
       "      <td>1157163539032756227</td>\n",
       "      <td>Sriniba90545602</td>\n",
       "      <td>1569402128812371968</td>\n",
       "      <td>2022-09-12 19:06:40+00:00</td>\n",
       "      <td>9 years ago on this day, PM Narendra Modi was ...</td>\n",
       "      <td>en</td>\n",
       "      <td>0</td>\n",
       "      <td>465</td>\n",
       "    </tr>\n",
       "  </tbody>\n",
       "</table>\n",
       "</div>"
      ],
      "text/plain": [
       "               user_id         username                   id  \\\n",
       "0  1426195560327905285  DRALIMOHAMMADM3  1569402701011898368   \n",
       "1  1563603695069044741     iam_ayush_11  1569402445641695232   \n",
       "2  1230240183204773888       Aaryawarat  1569402243258138624   \n",
       "3  1556617933476057088    MahomedRafiq2  1569402132230545410   \n",
       "4  1157163539032756227  Sriniba90545602  1569402128812371968   \n",
       "\n",
       "                       date  \\\n",
       "0 2022-09-12 19:08:56+00:00   \n",
       "1 2022-09-12 19:07:55+00:00   \n",
       "2 2022-09-12 19:07:07+00:00   \n",
       "3 2022-09-12 19:06:41+00:00   \n",
       "4 2022-09-12 19:06:40+00:00   \n",
       "\n",
       "                                               Tweet lang  replyCount  \\\n",
       "0            @iambilalparray @narendramodi Good work   en           0   \n",
       "1  @BSNLCorporate  WHEN WILL BSNL4G LAUNCH IN KAN...   en           0   \n",
       "2  @SureshNakhua @narendramodi @BJP4India Histori...   en           0   \n",
       "3  @Cyraakhan A Leader Does Not Need Portals Or C...   en           0   \n",
       "4  9 years ago on this day, PM Narendra Modi was ...   en           0   \n",
       "\n",
       "   followersCount  \n",
       "0              30  \n",
       "1               0  \n",
       "2           31481  \n",
       "3             542  \n",
       "4             465  "
      ]
     },
     "execution_count": 21,
     "metadata": {},
     "output_type": "execute_result"
    }
   ],
   "source": [
    "df3.head()"
   ]
  },
  {
   "cell_type": "code",
   "execution_count": 27,
   "id": "b517395b",
   "metadata": {},
   "outputs": [],
   "source": [
    "df4 = extract_useful_columns_with_reply(filename_search)"
   ]
  },
  {
   "cell_type": "code",
   "execution_count": 28,
   "id": "bef527ee",
   "metadata": {},
   "outputs": [
    {
     "data": {
      "text/html": [
       "<div>\n",
       "<style scoped>\n",
       "    .dataframe tbody tr th:only-of-type {\n",
       "        vertical-align: middle;\n",
       "    }\n",
       "\n",
       "    .dataframe tbody tr th {\n",
       "        vertical-align: top;\n",
       "    }\n",
       "\n",
       "    .dataframe thead th {\n",
       "        text-align: right;\n",
       "    }\n",
       "</style>\n",
       "<table border=\"1\" class=\"dataframe\">\n",
       "  <thead>\n",
       "    <tr style=\"text-align: right;\">\n",
       "      <th></th>\n",
       "      <th>Tweetid</th>\n",
       "      <th>date</th>\n",
       "      <th>user_id</th>\n",
       "      <th>username</th>\n",
       "      <th>Tweet</th>\n",
       "      <th>lang</th>\n",
       "      <th>replyCount</th>\n",
       "      <th>followersCount</th>\n",
       "      <th>conversationId</th>\n",
       "      <th>inReplyToTweetId</th>\n",
       "      <th>inReplyToUserId</th>\n",
       "      <th>inReplyToUserName</th>\n",
       "    </tr>\n",
       "  </thead>\n",
       "  <tbody>\n",
       "    <tr>\n",
       "      <th>0</th>\n",
       "      <td>1569402701011898368</td>\n",
       "      <td>2022-09-12 19:08:56+00:00</td>\n",
       "      <td>1426195560327905285</td>\n",
       "      <td>DRALIMOHAMMADM3</td>\n",
       "      <td>@iambilalparray @narendramodi Good work</td>\n",
       "      <td>en</td>\n",
       "      <td>0</td>\n",
       "      <td>30</td>\n",
       "      <td>1569389742957146112</td>\n",
       "      <td>1569389742957146112</td>\n",
       "      <td>1104954127371558912</td>\n",
       "      <td>iambilalparray</td>\n",
       "    </tr>\n",
       "    <tr>\n",
       "      <th>1</th>\n",
       "      <td>1569402445641695232</td>\n",
       "      <td>2022-09-12 19:07:55+00:00</td>\n",
       "      <td>1563603695069044741</td>\n",
       "      <td>iam_ayush_11</td>\n",
       "      <td>@BSNLCorporate  WHEN WILL BSNL4G LAUNCH IN KAN...</td>\n",
       "      <td>en</td>\n",
       "      <td>0</td>\n",
       "      <td>0</td>\n",
       "      <td>1569402445641695232</td>\n",
       "      <td>0</td>\n",
       "      <td>0</td>\n",
       "      <td>None</td>\n",
       "    </tr>\n",
       "    <tr>\n",
       "      <th>2</th>\n",
       "      <td>1569402243258138624</td>\n",
       "      <td>2022-09-12 19:07:07+00:00</td>\n",
       "      <td>1230240183204773888</td>\n",
       "      <td>Aaryawarat</td>\n",
       "      <td>@SureshNakhua @narendramodi @BJP4India Histori...</td>\n",
       "      <td>en</td>\n",
       "      <td>0</td>\n",
       "      <td>31481</td>\n",
       "      <td>1569400082075889664</td>\n",
       "      <td>1569400082075889664</td>\n",
       "      <td>106513394</td>\n",
       "      <td>SureshNakhua</td>\n",
       "    </tr>\n",
       "    <tr>\n",
       "      <th>3</th>\n",
       "      <td>1569402132230545410</td>\n",
       "      <td>2022-09-12 19:06:41+00:00</td>\n",
       "      <td>1556617933476057088</td>\n",
       "      <td>MahomedRafiq2</td>\n",
       "      <td>@Cyraakhan A Leader Does Not Need Portals Or C...</td>\n",
       "      <td>en</td>\n",
       "      <td>0</td>\n",
       "      <td>542</td>\n",
       "      <td>1568924135753121793</td>\n",
       "      <td>1568924135753121792</td>\n",
       "      <td>2994518797</td>\n",
       "      <td>Cyraakhan</td>\n",
       "    </tr>\n",
       "    <tr>\n",
       "      <th>4</th>\n",
       "      <td>1569402128812371968</td>\n",
       "      <td>2022-09-12 19:06:40+00:00</td>\n",
       "      <td>1157163539032756227</td>\n",
       "      <td>Sriniba90545602</td>\n",
       "      <td>9 years ago on this day, PM Narendra Modi was ...</td>\n",
       "      <td>en</td>\n",
       "      <td>0</td>\n",
       "      <td>465</td>\n",
       "      <td>1569402128812371968</td>\n",
       "      <td>0</td>\n",
       "      <td>0</td>\n",
       "      <td>None</td>\n",
       "    </tr>\n",
       "  </tbody>\n",
       "</table>\n",
       "</div>"
      ],
      "text/plain": [
       "               Tweetid                      date              user_id  \\\n",
       "0  1569402701011898368 2022-09-12 19:08:56+00:00  1426195560327905285   \n",
       "1  1569402445641695232 2022-09-12 19:07:55+00:00  1563603695069044741   \n",
       "2  1569402243258138624 2022-09-12 19:07:07+00:00  1230240183204773888   \n",
       "3  1569402132230545410 2022-09-12 19:06:41+00:00  1556617933476057088   \n",
       "4  1569402128812371968 2022-09-12 19:06:40+00:00  1157163539032756227   \n",
       "\n",
       "          username                                              Tweet lang  \\\n",
       "0  DRALIMOHAMMADM3            @iambilalparray @narendramodi Good work   en   \n",
       "1     iam_ayush_11  @BSNLCorporate  WHEN WILL BSNL4G LAUNCH IN KAN...   en   \n",
       "2       Aaryawarat  @SureshNakhua @narendramodi @BJP4India Histori...   en   \n",
       "3    MahomedRafiq2  @Cyraakhan A Leader Does Not Need Portals Or C...   en   \n",
       "4  Sriniba90545602  9 years ago on this day, PM Narendra Modi was ...   en   \n",
       "\n",
       "   replyCount  followersCount       conversationId     inReplyToTweetId  \\\n",
       "0           0              30  1569389742957146112  1569389742957146112   \n",
       "1           0               0  1569402445641695232                    0   \n",
       "2           0           31481  1569400082075889664  1569400082075889664   \n",
       "3           0             542  1568924135753121793  1568924135753121792   \n",
       "4           0             465  1569402128812371968                    0   \n",
       "\n",
       "       inReplyToUserId inReplyToUserName  \n",
       "0  1104954127371558912    iambilalparray  \n",
       "1                    0              None  \n",
       "2            106513394      SureshNakhua  \n",
       "3           2994518797         Cyraakhan  \n",
       "4                    0              None  "
      ]
     },
     "execution_count": 28,
     "metadata": {},
     "output_type": "execute_result"
    }
   ],
   "source": [
    "df4.head()"
   ]
  },
  {
   "cell_type": "code",
   "execution_count": 30,
   "id": "6db99de0",
   "metadata": {},
   "outputs": [
    {
     "data": {
      "text/plain": [
       "Tweetid                            int64\n",
       "date                 datetime64[ns, UTC]\n",
       "user_id                            int64\n",
       "username                          object\n",
       "Tweet                             object\n",
       "lang                              object\n",
       "replyCount                         int64\n",
       "followersCount                     int64\n",
       "conversationId                     int64\n",
       "inReplyToTweetId                   int64\n",
       "inReplyToUserId                    int64\n",
       "inReplyToUserName                 object\n",
       "dtype: object"
      ]
     },
     "execution_count": 30,
     "metadata": {},
     "output_type": "execute_result"
    }
   ],
   "source": [
    "df4.dtypes"
   ]
  },
  {
   "cell_type": "code",
   "execution_count": null,
   "id": "6a626bb6",
   "metadata": {},
   "outputs": [],
   "source": []
  }
 ],
 "metadata": {
  "kernelspec": {
   "display_name": "Python 3 (ipykernel)",
   "language": "python",
   "name": "python3"
  },
  "language_info": {
   "codemirror_mode": {
    "name": "ipython",
    "version": 3
   },
   "file_extension": ".py",
   "mimetype": "text/x-python",
   "name": "python",
   "nbconvert_exporter": "python",
   "pygments_lexer": "ipython3",
   "version": "3.9.12"
  }
 },
 "nbformat": 4,
 "nbformat_minor": 5
}
